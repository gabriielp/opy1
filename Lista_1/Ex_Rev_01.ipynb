{
  "nbformat": 4,
  "nbformat_minor": 0,
  "metadata": {
    "colab": {
      "name": "Ex-Rev-01.ipynb",
      "provenance": [],
      "collapsed_sections": []
    },
    "kernelspec": {
      "name": "python3",
      "display_name": "Python 3"
    },
    "language_info": {
      "name": "python"
    }
  },
  "cells": [
    {
      "cell_type": "markdown",
      "source": [
        "#Exercício Revisão 01"
      ],
      "metadata": {
        "id": "XSJFLx04jpod"
      }
    },
    {
      "cell_type": "markdown",
      "source": [
        "Desejamos construir uma tabela oriunda de uma equação (polinômio) de 2o grau.\n",
        "\n",
        "> y = a.x² + b.x + c\n",
        "\n",
        "A tabela deve ser iniciada em um valor **xmin**, sendo finalizada em um valor **xmax**, com 20 valores *equidistantes* de x no total.\n",
        "O usuário deverá fornecer:\n",
        "* os coeficientes reais **a**, **b** e **c** da equação;\n",
        "* e também os valores de **xmin** e **xmax**."
      ],
      "metadata": {
        "id": "qlIZcO5hju7j"
      }
    },
    {
      "cell_type": "markdown",
      "source": [
        "##Entrada de Dados"
      ],
      "metadata": {
        "id": "YbHJ5MZJkTyA"
      }
    },
    {
      "cell_type": "markdown",
      "source": [
        "O cálculo requerido requer dados do usuário:\n",
        "* coeficientes reais **a**, **b** e **c** da equação;\n",
        "* dos valores de **xmin** e **xmax** para limites da tabela."
      ],
      "metadata": {
        "id": "8HEi95hLvm-F"
      }
    },
    {
      "cell_type": "code",
      "source": [
        "# Entrada do coeficiente real a\n",
        "a = float(input('Digite o coeficiente a:'))"
      ],
      "metadata": {
        "id": "WiPDFUnxkTUM"
      },
      "execution_count": null,
      "outputs": []
    },
    {
      "cell_type": "code",
      "source": [
        "# Exibe coeficiente a\n",
        "print('a =', a)"
      ],
      "metadata": {
        "id": "KD4WN3OwwaAK"
      },
      "execution_count": null,
      "outputs": []
    },
    {
      "cell_type": "code",
      "execution_count": null,
      "metadata": {
        "id": "g0kBw6AYjoIB"
      },
      "outputs": [],
      "source": [
        "# Entrada do coeficiente real b\n"
      ]
    },
    {
      "cell_type": "code",
      "source": [
        "# Exibe coeficiente b\n"
      ],
      "metadata": {
        "id": "N8GlM5Hbwh9Q"
      },
      "execution_count": null,
      "outputs": []
    },
    {
      "cell_type": "code",
      "source": [
        "# Entrada do coeficiente real c\n"
      ],
      "metadata": {
        "id": "q9y-Dgf0MfRB"
      },
      "execution_count": null,
      "outputs": []
    },
    {
      "cell_type": "code",
      "source": [
        "# Exibe coeficiente c\n"
      ],
      "metadata": {
        "id": "-MlNrUWqMfCJ"
      },
      "execution_count": null,
      "outputs": []
    },
    {
      "cell_type": "code",
      "source": [
        "# Entrada do valor real de xmin"
      ],
      "metadata": {
        "id": "8osmxMfxMkWA"
      },
      "execution_count": null,
      "outputs": []
    },
    {
      "cell_type": "code",
      "source": [
        "# Entrada do valor real de xmax (DEVE SER MAIOR QUE xmin)"
      ],
      "metadata": {
        "id": "e-praiYJMkG4"
      },
      "execution_count": null,
      "outputs": []
    },
    {
      "cell_type": "code",
      "source": [
        "# Exibe valor real de xmin e xmax"
      ],
      "metadata": {
        "id": "gA-U_cvAMrCJ"
      },
      "execution_count": null,
      "outputs": []
    },
    {
      "cell_type": "markdown",
      "source": [
        "## Processamento (geração da tabela)"
      ],
      "metadata": {
        "id": "3hvwbUtrwlGm"
      }
    },
    {
      "cell_type": "markdown",
      "source": [
        "A geração da tabela requer um laço de repetição para percorrer os valores de **xmin** até **xmax**, com um passo calculado por:\n",
        "\n",
        "> passo = (xmax - xmin) / 20"
      ],
      "metadata": {
        "id": "bUezIgJ6wqNJ"
      }
    },
    {
      "cell_type": "code",
      "source": [
        "# Calcular o passo\n",
        "passo = (xmax - xmin) / 20"
      ],
      "metadata": {
        "id": "G5j8M4aCNDLS"
      },
      "execution_count": 1,
      "outputs": []
    },
    {
      "cell_type": "markdown",
      "source": [
        "## Saída"
      ],
      "metadata": {
        "id": "b9zjlIkmxmiq"
      }
    },
    {
      "cell_type": "markdown",
      "source": [
        "A geração (e exibição) da tabela constitui a saída desejada para este programa."
      ],
      "metadata": {
        "id": "JYvLGPChNipb"
      }
    },
    {
      "cell_type": "code",
      "source": [
        "# Inicialização\n",
        "x = xmin"
      ],
      "metadata": {
        "id": "pNbvwNutNcVZ"
      },
      "execution_count": null,
      "outputs": []
    },
    {
      "cell_type": "code",
      "source": [
        "# Geração da Tabela\n",
        "while x <= xmax:\n",
        "  y = a * (x**2) + b * x + c\n",
        "  # PRECISA melhorar a formatação\n",
        "  print(x, y)"
      ],
      "metadata": {
        "id": "MUkgZYV3N0n9"
      },
      "execution_count": null,
      "outputs": []
    }
  ]
}