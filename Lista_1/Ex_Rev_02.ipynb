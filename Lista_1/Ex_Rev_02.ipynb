{
  "nbformat": 4,
  "nbformat_minor": 0,
  "metadata": {
    "colab": {
      "name": "Ex-Rev-02.ipynb",
      "provenance": []
    },
    "kernelspec": {
      "name": "python3",
      "display_name": "Python 3"
    },
    "language_info": {
      "name": "python"
    }
  },
  "cells": [
    {
      "cell_type": "markdown",
      "source": [
        "#Exercício Revisão 02"
      ],
      "metadata": {
        "id": "LCsZWC40P_qd"
      }
    },
    {
      "cell_type": "markdown",
      "source": [
        "O IMC (*índice de massa corpórea) é muito utilizado pelos profissionais da saúde como um indicador de saúde.\n",
        "\n",
        "Embora não seja muito preciso, funciona como referência e como pré-diagnóstico de diversas doenças, como a obesidade, problemas cardíacos, respiratórios e ortopédicos.\n",
        "\n",
        "O IMC é calculado pela relação:\n",
        "\n",
        "> IMC = massa / (altura ** 2)\n",
        "\n",
        "O valor do IMC é classificado segundo uma tabela usada pelas sociedades médicas, inclusa ao final deste notebook.\n",
        "\n",
        "Deseja-se obter os dados do usuário que permitam tanto calcular o IMC, como determinar sua classificação."
      ],
      "metadata": {
        "id": "04GmyFHBQBS0"
      }
    },
    {
      "cell_type": "markdown",
      "source": [
        "## Entrada"
      ],
      "metadata": {
        "id": "J1a3LToVQpra"
      }
    },
    {
      "cell_type": "markdown",
      "source": [
        "O IMC requer que o usuário forneça os dados que seguem:\n",
        "\n",
        "* massa, expressa em quilogramas (Kg); e\n",
        "* altura, expressa em metros (m)."
      ],
      "metadata": {
        "id": "AdqVS96BQrc4"
      }
    },
    {
      "cell_type": "code",
      "source": [
        "# Entrada do valor real da massa\n",
        "massa = float(input('Digite sua massa [kg]:'))"
      ],
      "metadata": {
        "id": "zdcP5mPLQpE0"
      },
      "execution_count": null,
      "outputs": []
    },
    {
      "cell_type": "code",
      "execution_count": null,
      "metadata": {
        "id": "N4DDQytYP-E4"
      },
      "outputs": [],
      "source": [
        "# Exibe a massa digitada\n",
        "print(massa)"
      ]
    },
    {
      "cell_type": "code",
      "source": [
        "# Entrada do valor real da altura\n"
      ],
      "metadata": {
        "id": "rnNOFsEiRDKx"
      },
      "execution_count": 1,
      "outputs": []
    },
    {
      "cell_type": "code",
      "source": [
        "# Exibe a altura digitada\n"
      ],
      "metadata": {
        "id": "U33lDl52RF2x"
      },
      "execution_count": null,
      "outputs": []
    },
    {
      "cell_type": "markdown",
      "source": [
        "## Processamento (cálculo do IMC)"
      ],
      "metadata": {
        "id": "BSyEAESKRK6B"
      }
    },
    {
      "cell_type": "markdown",
      "source": [
        "O cálculo do IMC utiliza a relação dada anteriormente, que é:\n",
        "\n",
        "> IMC = massa / (altura**2)"
      ],
      "metadata": {
        "id": "1VN-WV3BROQp"
      }
    },
    {
      "cell_type": "code",
      "source": [
        "# Cálculo do IMC\n"
      ],
      "metadata": {
        "id": "hlKXPBXPRVdC"
      },
      "execution_count": null,
      "outputs": []
    },
    {
      "cell_type": "code",
      "source": [
        "# Exibição do IMC com 3 casas após a vírgula"
      ],
      "metadata": {
        "id": "yLeNXPw9Rt9i"
      },
      "execution_count": null,
      "outputs": []
    },
    {
      "cell_type": "markdown",
      "source": [
        "## Saída (classificação do IMC)"
      ],
      "metadata": {
        "id": "t35pxaavRyXY"
      }
    },
    {
      "cell_type": "markdown",
      "source": [
        "Utilize a tabela abaixo para gerar a classificação do IMC calculado."
      ],
      "metadata": {
        "id": "oYRhf5MaR1eK"
      }
    },
    {
      "cell_type": "markdown",
      "source": [
        "<img src = 'https://drive.google.com/uc?id=1PrCKQ8rhLj08yGUaLTjUp1D2iMgK8hSy' width='60%' height='60%' />"
      ],
      "metadata": {
        "id": "5TYB7-i2R6iq"
      }
    },
    {
      "cell_type": "code",
      "source": [
        "print('IMC classificado como', end=' ')\n",
        "if imc < 18.5:\n",
        "  print('Magreza')\n",
        "elif imc < 24.9:\n",
        "  print('Saudável')\n",
        "# complete a estrutura  "
      ],
      "metadata": {
        "id": "aE_gR_XgSZES"
      },
      "execution_count": null,
      "outputs": []
    }
  ]
}