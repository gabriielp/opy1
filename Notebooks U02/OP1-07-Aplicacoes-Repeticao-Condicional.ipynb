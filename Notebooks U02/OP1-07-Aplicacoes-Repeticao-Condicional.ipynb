{
 "cells": [
  {
   "cell_type": "markdown",
   "metadata": {},
   "source": [
    "<img src='op1-u02.png'/>\n",
    "<h2><font color='#7F0000'>OP1-07-Aplicações da repetição condicional</font></h2>"
   ]
  },
  {
   "cell_type": "code",
   "execution_count": null,
   "metadata": {},
   "outputs": [],
   "source": [
    "# Repetição condicional pode ser utilizada para:\n",
    "# contagem\n",
    "# validação\n",
    "# agregação\n",
    "# indexação"
   ]
  },
  {
   "cell_type": "markdown",
   "metadata": {},
   "source": [
    "## Contagem"
   ]
  },
  {
   "cell_type": "code",
   "execution_count": null,
   "metadata": {},
   "outputs": [],
   "source": [
    "# variável inteira (que servirá como contador)\n",
    "x = 0\n",
    "# comando de repetição while\n",
    "# expressão condicional é x <= 10\n",
    "while x <= 10:   # dois-pontos é obrigatório\n",
    "    print(x)     # comando associado (observe a indentação)\n",
    "    x += 2       # controle da repetição: modifica a expressão condicional\n",
    "# while executa os comandos ENQUANTO a condição é verdadeira/True.    "
   ]
  },
  {
   "cell_type": "markdown",
   "metadata": {},
   "source": [
    "## Validação"
   ]
  },
  {
   "cell_type": "code",
   "execution_count": null,
   "metadata": {},
   "outputs": [],
   "source": [
    "# Repetição pode ser usada para validar a entrada de dados.\n",
    "# A operação de entrada pode ser repetida enquanto inválida."
   ]
  },
  {
   "cell_type": "code",
   "execution_count": null,
   "metadata": {},
   "outputs": [],
   "source": [
    "# Entrada de dados\n",
    "valor = int(input(\"Digite um valor entre 1 e 5? \"))\n",
    "\n",
    "# Validação\n",
    "while valor < 1 or valor > 5:\n",
    "    # Informe usuário sobre seu erro\n",
    "    print(\"Valor invalido! Tente outra vez.\")\n",
    "    # Repete entrada de dados\n",
    "    valor = int(input(\"Digite um valor entre 1 e 5? \"))\n",
    "    \n",
    "# Quando sai do laço, foi realizada um entrada válida\n",
    "print(\"Valor = \", valor)"
   ]
  },
  {
   "cell_type": "markdown",
   "metadata": {},
   "source": [
    "#### Strings formatadas"
   ]
  },
  {
   "cell_type": "code",
   "execution_count": null,
   "metadata": {},
   "outputs": [],
   "source": [
    "# Considere duas variáveis x e y\n",
    "x = 123\n",
    "y= 456.0987\n",
    "# Para criar uma string composta de mensagens e valores intercalados, é possível fazer\n",
    "print(\"x =\", x, \"y =\", y)"
   ]
  },
  {
   "cell_type": "code",
   "execution_count": null,
   "metadata": {},
   "outputs": [],
   "source": [
    "# Outra alternativa é fazer a função de formatação format\n",
    "# e de seus marcadores\n",
    "print(\"x = {} y = {}\".format(x, y))\n",
    "# com esse comando a string da mensagem é escrita por inteiro, enquanto\n",
    "# os pares de chaves \"reservam\" espaço para os valores indicados em format."
   ]
  },
  {
   "cell_type": "code",
   "execution_count": null,
   "metadata": {},
   "outputs": [],
   "source": [
    "# A função format ainda permite formatar os valores\n",
    "print(\"x = {:5d} y = {:.2f}\".format(x, y))"
   ]
  },
  {
   "cell_type": "markdown",
   "metadata": {},
   "source": [
    "<p>Marcadores comuns de format:</p>\n",
    "<ul>\n",
    "    <li><b>d</b><br/>Marcador de inteiros. Se precedido por um número, reserva tal número de colunas na apresentação do valor: d, inteiro sem formato; 3d, inteiro com 3 colunas/dígitos, 04d, inteiro com 4 colunas prenchidas com zeros à esquerda.</li>\n",
    "    <li><b>f</b><br/>Marcador de inteiros. Se precedido por um número, reserva tal número de colunas na apresentação do valor: f, real sem formato, 5.2f, real com 5 colunas/dígitos e duas casas após a vírgula.</li>\n",
    "</ul>"
   ]
  },
  {
   "cell_type": "markdown",
   "metadata": {},
   "source": [
    "#### F'Strings"
   ]
  },
  {
   "cell_type": "code",
   "execution_count": null,
   "metadata": {},
   "outputs": [],
   "source": [
    "# O uso da função format pode ser simplificado com uso das F'Strings\n",
    "# Uma F'String é criada incluindo uma letra f ou F no início da string.\n",
    "# Dentro dos marcadores {} é possível indicar expressões diretamente,\n",
    "# descartando a indicação explícita da função format.\n",
    "\n",
    "# A impressão que segue\n",
    "print(\"x = {:5d} y = {:.2f}\".format(x, y))\n",
    "\n",
    "# Equivale à\n",
    "print(F\"x = {x:5d} y = {y:.2f}\")"
   ]
  },
  {
   "cell_type": "code",
   "execution_count": null,
   "metadata": {},
   "outputs": [],
   "source": [
    "# Boa prática: use constantes para definir a faixa de valores\n",
    "# válidos para entrada, facilitando a manutenção.\n",
    "MIN = 1 # valor mínimo (inferior)\n",
    "MAX = 5 # valor máximo (superior)"
   ]
  },
  {
   "cell_type": "code",
   "execution_count": null,
   "metadata": {},
   "outputs": [],
   "source": [
    "# Entrada de dados\n",
    "valor = int(input(\"Digite um valor entre {:d} e {:d}? \".format(MIN,MAX)))\n",
    "# Validação\n",
    "while valor < MIN or valor > MAX:\n",
    "    # Informe usuário sobre seu erro\n",
    "    print(\"Valor invalido! Tente outra vez.\")\n",
    "    # Repete entrada de dados\n",
    "    valor = int(input(F\"Digite um valor entre {MIN:d} e {MAX:d}? \"))\n",
    "    \n",
    "# Quando sai do laço, foi realizada um entrada válida\n",
    "print(\"Valor =\", valor)"
   ]
  },
  {
   "cell_type": "markdown",
   "metadata": {},
   "source": [
    "## Acumulação"
   ]
  },
  {
   "cell_type": "code",
   "execution_count": null,
   "metadata": {},
   "outputs": [],
   "source": [
    "# Uso de repetição permite a acumulação de valores\n",
    "# fornecidos pelo usuário, calculados ou obtidos por outros meios."
   ]
  },
  {
   "cell_type": "code",
   "execution_count": null,
   "metadata": {},
   "outputs": [],
   "source": [
    "# Acumulação simples\n",
    "soma = 0 # variável para acumulação\n",
    "i = 1             # valor inicial da repetição\n",
    "N = 10   # valor final da repetição\n",
    "\n",
    "# Laço de repetição para somar inteiros 1 até N\n",
    "while i <= N:\n",
    "    # acumulação\n",
    "    soma += i    # o mesmo que soma = soma + i\n",
    "    i = i + 1    # incremento da variável de controle\n",
    "    \n",
    "# exibição do valor acumulado\n",
    "print(\"Soma = \", soma)    "
   ]
  },
  {
   "cell_type": "code",
   "execution_count": null,
   "metadata": {},
   "outputs": [],
   "source": [
    "# Acumulação calculada\n",
    "somaQuadrados = 0 # variável para acumulação\n",
    "i = 1             # valor inicial da repetição\n",
    "N = 7             # valor final da repetição\n",
    "\n",
    "# Laço de repetição para somar quadrados de 1 até N\n",
    "print(\"SomaQuadrados = 0\", end=\"\")\n",
    "while i <= N:\n",
    "    # acumulação\n",
    "    somaQuadrados += i**2  # o mesmo que soma = soma + i\n",
    "    #\n",
    "    print(\" +\", i**2, end=\"\")\n",
    "    i = i + 1    # incremento da variável de controle\n",
    "    \n",
    "# exibição do valor acumulado\n",
    "print(\"\\nSomaQuadrados =\", somaQuadrados)    "
   ]
  },
  {
   "cell_type": "markdown",
   "metadata": {},
   "source": [
    "## Indexação"
   ]
  },
  {
   "cell_type": "code",
   "execution_count": null,
   "metadata": {},
   "outputs": [],
   "source": [
    "# Indexação é o procedimento de seleção de elementos\n",
    "# individuais presentes em estruturas de dados.\n",
    "# Python oferece várias estruturas: listas, conjuntos, tuplas etc.\n",
    "# Todas podem ser indexadas."
   ]
  },
  {
   "cell_type": "code",
   "execution_count": null,
   "metadata": {},
   "outputs": [],
   "source": [
    "# Uma lista\n",
    "lista = ['Mercúrio', 'Vênus', 'Terra', 'Marte']\n",
    "\n",
    "# variável de controle do laço é um contador\n",
    "index = 0\n",
    "while index < len(lista):\n",
    "    print(index, lista[index])    # o colchete funciona \n",
    "                                  # como indexador de estruturas\n",
    "    index += 1                    # incrementa variável de controle"
   ]
  },
  {
   "cell_type": "markdown",
   "metadata": {},
   "source": [
    "### FIM\n",
    "### <a href=\"http://github.com/pjandl/opy1\">Oficina Python Básico</a>"
   ]
  }
 ],
 "metadata": {
  "kernelspec": {
   "display_name": "Python 3",
   "language": "python",
   "name": "python3"
  },
  "language_info": {
   "codemirror_mode": {
    "name": "ipython",
    "version": 3
   },
   "file_extension": ".py",
   "mimetype": "text/x-python",
   "name": "python",
   "nbconvert_exporter": "python",
   "pygments_lexer": "ipython3",
   "version": "3.8.5"
  }
 },
 "nbformat": 4,
 "nbformat_minor": 4
}
