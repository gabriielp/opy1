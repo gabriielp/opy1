{
 "cells": [
  {
   "cell_type": "markdown",
   "metadata": {},
   "source": [
    "<img src='op1-u02.png'/>\n",
    "<h2><font color='#7F0000'>OP1-Lista Dois</font></h2>"
   ]
  },
  {
   "cell_type": "markdown",
   "metadata": {},
   "source": [
    "<h4>1.</h4>\n",
    "<p>Construa um programa Python que apresente a tabuada de um número inteiro n\n",
    "fornecido pelo usuário. A tabuada deve ser apresentada como segue, imaginando\n",
    "que o usuário digitou o número 11:</p>\n",
    "<code><tt>\n",
    "11 x 0 = 0\n",
    "11 x 1 = 11\n",
    "11 x 2 = 22\n",
    ":\n",
    "11 x 10 = 110</tt></code>"
   ]
  },
  {
   "cell_type": "code",
   "execution_count": null,
   "metadata": {},
   "outputs": [],
   "source": [
    "# Entrada de dados (leitura de valores)\n",
    "n = int(input('Número inteiro para tabuada? '))\n",
    "\n",
    "# Saída de dados (impressão) use um laço while ou for\n",
    "# para efetuar uma contagem de 0 até 10!\n"
   ]
  },
  {
   "cell_type": "markdown",
   "metadata": {},
   "source": [
    "<h4>2.</h4>\n",
    "<p>Escreva um programa Python que leia números reais fornecidos pelo usuário até que\n",
    "sua soma seja 100 ou mais. Então o programa deve apresentar a quantidade de\n",
    "números fornecidos e sua média aritmética simples.</p>"
   ]
  },
  {
   "cell_type": "code",
   "execution_count": null,
   "metadata": {},
   "outputs": [],
   "source": [
    "# Entrada de dados (leitura de valores)\n",
    "soma = 0        # somador de valores\n",
    "quantidade = 0  # contador de valores\n",
    "\n",
    "# Laço para entrada de dados enquanto soma < 100\n",
    "while soma < 100:\n",
    "    # seu código aqui\n",
    "\n",
    "    \n",
    "    \n",
    "# Processamento (cálculo)\n",
    "media = soma / quantidade\n",
    "\n",
    "# Saída de dados (impressão)\n"
   ]
  },
  {
   "cell_type": "markdown",
   "metadata": {},
   "source": [
    "<h4>3.</h4>\n",
    "<p>Construa um programa Python que receba um número inteiro indicando se ele é par ou\n",
    "não.</p>"
   ]
  },
  {
   "cell_type": "code",
   "execution_count": null,
   "metadata": {},
   "outputs": [],
   "source": [
    "# Entrada de dados (leitura de valores)\n",
    "n = int(input('Número inteiro? '))\n",
    "\n",
    "# É necessário um if para testar a condição (número n ser par)\n"
   ]
  },
  {
   "cell_type": "markdown",
   "metadata": {},
   "source": [
    "<h4>4.</h4>\n",
    "<p>Construa um programa Python receba um número inteiro indicando se ele é primo\n",
    "ou não. Os números primos são aqueles que só podem ser divisíveis por 1 e por eles\n",
    "mesmos.</p>\n",
    "<p>Você pode considerar o número 1 como primo. Se o usuário fornecer um\n",
    "número menor do que 1, o programa deve exibir um aviso e ser encerrado.</p>"
   ]
  },
  {
   "cell_type": "code",
   "execution_count": null,
   "metadata": {},
   "outputs": [],
   "source": [
    "# Entrada de dados (leitura de valores)\n",
    "n = int(input('Número inteiro? '))\n",
    "\n",
    "# Verifica se número é positivo\n",
    "if n > 0:\n",
    "    # Teste para determinar se número é primo\n",
    "\n",
    "    \n",
    "    # Exibe mensagem conforme resultado do teste\n",
    "\n",
    "    \n",
    "else:    \n",
    "    print(n, 'não pode ser testado como primo')\n"
   ]
  },
  {
   "cell_type": "markdown",
   "metadata": {},
   "source": [
    "<h4>5.</h4>\n",
    "<p>Escreva um programa que leia vários números reais, positivos ou negativos, até que\n",
    "o usuário digite o valor 0. Então o programa deve:</p>\n",
    "<ul>\n",
    "<li>apresentar a quantidade de números positivos fornecidos, </li>\n",
    "<li>a quantidade de números negativos fornecidos, </li>\n",
    "<li>a soma dos números positivos, </li>\n",
    "<li> a soma dos números negativos, </li>\n",
    "<li>a média dos números positivos e</li> \n",
    "<li>a média dos números negativos.</li>\n",
    "</ul>"
   ]
  },
  {
   "cell_type": "code",
   "execution_count": null,
   "metadata": {},
   "outputs": [],
   "source": [
    "# Variáveis requeridas para informações solicitadas\n",
    "somaPos = 0     # somador de valores positivos\n",
    "quantPos = 0    # contador de valores positivos\n",
    "somaNeg = 0     # somador de valores negativos\n",
    "quantNeg = 0    # contador de valores negativos\n",
    "\n",
    "# Entrada inclui processamento (soma e contagem)\n",
    "while : # precisa completar o while\n",
    "    # seu código aqui\n",
    "\n",
    "    \n",
    "# Pós-processamento dos dados (cálculos)\n",
    "mediaPos = somaPos / quantPos\n",
    "mediaNeg = \n",
    "\n",
    "# Saída de dados (impressão)\n",
    "print('Quantidade de valores positivos: ', quantPos)\n"
   ]
  },
  {
   "cell_type": "markdown",
   "metadata": {},
   "source": [
    "<h4>6.</h4>\n",
    "<p>Construa um programa que receba (leia) dois números reais, considerando que estes\n",
    "valores são os coeficientes a e b de uma equação de 1º grau. Monte uma tabela com\n",
    "os resultados de <tt>x = a*x + b</tt> para os valores de x de -5.0 a +5.0, com x variando de 0.5 e, 0.5.</p>"
   ]
  },
  {
   "cell_type": "code",
   "execution_count": null,
   "metadata": {},
   "outputs": [],
   "source": [
    "# Entrada de dados (leitura de valores)\n",
    "print('Equação da reta: y = a*x + b')\n",
    "print('----------------------------')\n",
    "a = float(input('Coeficiente a da reta? '))\n",
    "b = \n",
    "print('----------------------------')\n",
    "\n",
    "# Processamento e saida dos dados (cálculos e impressão)\n",
    "x = -5.0\n",
    "print('| {:4s} | {:8s} |'.format('x', 'y'))\n",
    "print('+------+----------+')\n",
    "while x <= +5.0:\n",
    "    y = a*x + b\n",
    "    # complete o print()\n",
    "    print()\n",
    "    x += 0.5\n",
    "print('+------+----------+')\n"
   ]
  },
  {
   "cell_type": "markdown",
   "metadata": {},
   "source": [
    "<h4>7.</h4>\n",
    "<p>Construa um programa que receba (leia) três números reais, considerando que estes\n",
    "três valores são os coeficientes a, b e c de uma equação de 2º grau. Calcule o delta (<tt>=\n",
    "b² - 4*a*c</tt>) e as raízes desta equação, exibindo estas informações no console.<p>"
   ]
  },
  {
   "cell_type": "code",
   "execution_count": null,
   "metadata": {},
   "outputs": [],
   "source": [
    "import math\n",
    "\n",
    "# Entrada de dados (leitura de valores)\n",
    "print('Equação de 2o grau: y = a*x^2 + b*x + c')\n",
    "print('----------------------------')\n",
    "a = float(input('Coeficiente a da equacao? '))\n",
    "b = \n",
    "c = \n",
    "print('----------------------------')\n",
    "\n",
    "# Processamento e saida dos dados (cálculos e impressão)\n",
    "if a == 0:\n",
    "    \n",
    "else:\n"
   ]
  },
  {
   "cell_type": "markdown",
   "metadata": {},
   "source": [
    "<h4>8.</h4>\n",
    "<p>Escreva um programa que leia um número inteiro (naturalmente na base 10)\n",
    "convertendo-o para seu equivalente em binário (base 2).</p>"
   ]
  },
  {
   "cell_type": "code",
   "execution_count": null,
   "metadata": {},
   "outputs": [],
   "source": [
    "# Entrada de dados (leitura de valores)\n",
    "dec = int(input('Número inteiro decimal? '))\n",
    "\n",
    "# Processamento (conversão)\n",
    "bin = ''\n",
    "\n",
    "# Saída (exibição do resultado desejado)\n",
    "print('Decimal(',dec,') <--> Binário(', bin, ')')"
   ]
  },
  {
   "cell_type": "markdown",
   "metadata": {},
   "source": [
    "### FIM\n",
    "### <a href=\"http://github.com/pjandl/opy1\">Oficina Python Básico</a>"
   ]
  }
 ],
 "metadata": {
  "kernelspec": {
   "display_name": "Python 3",
   "language": "python",
   "name": "python3"
  },
  "language_info": {
   "codemirror_mode": {
    "name": "ipython",
    "version": 3
   },
   "file_extension": ".py",
   "mimetype": "text/x-python",
   "name": "python",
   "nbconvert_exporter": "python",
   "pygments_lexer": "ipython3",
   "version": "3.8.5"
  }
 },
 "nbformat": 4,
 "nbformat_minor": 4
}
