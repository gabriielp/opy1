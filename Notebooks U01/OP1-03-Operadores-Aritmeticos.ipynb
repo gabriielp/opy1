{
 "cells": [
  {
   "cell_type": "markdown",
   "metadata": {},
   "source": [
    "<img src='op1-u01.png'/>\n",
    "<h2><font color='#7F0000'>OP1-03-Operadores Ariméticos</font></h2>"
   ]
  },
  {
   "cell_type": "code",
   "execution_count": null,
   "metadata": {},
   "outputs": [],
   "source": [
    "# Variáveis e valores literais podem ser combinados por meio de\n",
    "# operadores aritméticos, relacionais e lógicos; formando expressões\n",
    "# que podem produzir resultados mais sofisticados."
   ]
  },
  {
   "cell_type": "markdown",
   "metadata": {},
   "source": [
    "## Definição de variáveis"
   ]
  },
  {
   "cell_type": "code",
   "execution_count": null,
   "metadata": {},
   "outputs": [],
   "source": [
    "# Considere as variáveis inteiras que seguem\n",
    "a = 7\n",
    "b = 4"
   ]
  },
  {
   "cell_type": "markdown",
   "metadata": {},
   "source": [
    "## Operadores aritméticos"
   ]
  },
  {
   "cell_type": "code",
   "execution_count": null,
   "metadata": {},
   "outputs": [],
   "source": [
    "# Possibilitam realizar somas, subtrações, multiplicações e divisões\n",
    "# entre valores inteiros, reais e complexos.\n",
    "# Utiliza os operadores comuns da álgebra: +, -, * e /."
   ]
  },
  {
   "cell_type": "code",
   "execution_count": null,
   "metadata": {},
   "outputs": [],
   "source": [
    "# Adição (soma)\n",
    "a + b\n",
    "# O resultado dessa expressão é calculado, mas perdido (não há atribuição ou uso)"
   ]
  },
  {
   "cell_type": "code",
   "execution_count": null,
   "metadata": {},
   "outputs": [],
   "source": [
    "# Impressão (exibição) de adição\n",
    "print(a + b)\n",
    "# O resultado dessa expressão é calculado e usado pela função print()"
   ]
  },
  {
   "cell_type": "code",
   "execution_count": null,
   "metadata": {},
   "outputs": [],
   "source": [
    "# Adição com atribuição de resultado\n",
    "res = a + b\n",
    "# A variável res contém o resultado, que poderá ser usado posteriormente\n",
    "print(res)"
   ]
  },
  {
   "cell_type": "code",
   "execution_count": null,
   "metadata": {},
   "outputs": [],
   "source": [
    "# Variáveis e literais podem ser combinados com operadores aritméticos\n",
    "res = a + 10\n",
    "print(\"soma =\", a + 10)\n",
    "\n",
    "print(\"outra soma =\", 5 + b)"
   ]
  },
  {
   "cell_type": "code",
   "execution_count": null,
   "metadata": {},
   "outputs": [],
   "source": [
    "# Função print() com uso de strings formatadas\n",
    "print(\"soma = {}\".format(res))\n",
    "print(\"soma = {:4d}\".format(res))\n",
    "print(\"soma = {:03d}\".format(res))"
   ]
  },
  {
   "cell_type": "code",
   "execution_count": null,
   "metadata": {},
   "outputs": [],
   "source": [
    "# Função print() com uso de F'strings (equivalente às anteriores)\n",
    "print(F\"soma = {res}\")\n",
    "print(f'soma = {res:4d}')\n",
    "print(f\"soma = {res:03d}\")"
   ]
  },
  {
   "cell_type": "code",
   "execution_count": null,
   "metadata": {},
   "outputs": [],
   "source": [
    "# Subtração\n",
    "res = a - b\n",
    "print(res)\n",
    "print(\"res({}) contém a - b (={}) para a={} e b={}\".format(res, a - b, a, b))\n",
    "print(f\"res({res}) contém a - b (={a-b}) para a={a} e b={b}\")"
   ]
  },
  {
   "cell_type": "code",
   "execution_count": null,
   "metadata": {},
   "outputs": [],
   "source": [
    "# Multiplicação\n",
    "res = a * b\n",
    "print(res)\n",
    "print(\"res({}) contém a * b({}) para a={} e b={}\".format(res, a * b, a, b))\n",
    "print(f\"res({res}) contém a * b (={a*b}) para a={a} e b={b}\")"
   ]
  },
  {
   "cell_type": "code",
   "execution_count": null,
   "metadata": {},
   "outputs": [],
   "source": [
    "# Divisão\n",
    "res = a / b\n",
    "print(res)\n",
    "print(f\"res({res:.3f}) contém a / b (={a/b}) para a={a} e b={b}\")"
   ]
  },
  {
   "cell_type": "code",
   "execution_count": null,
   "metadata": {},
   "outputs": [],
   "source": [
    "# Divisão inteira\n",
    "res = a // b\n",
    "print(res)\n",
    "print(f\"res({res}) contém a // b (={a//b}) para a={a} e b={b}\")"
   ]
  },
  {
   "cell_type": "code",
   "execution_count": null,
   "metadata": {},
   "outputs": [],
   "source": [
    "# Cuidado com a divisão por zero\n",
    "res = a / 0"
   ]
  },
  {
   "cell_type": "code",
   "execution_count": null,
   "metadata": {},
   "outputs": [],
   "source": [
    "# Potenciação\n",
    "res = a ** b\n",
    "print(res)\n",
    "print(f\"res({res}) contém a**b (={a**b}) para a={a} e b={b}\")"
   ]
  },
  {
   "cell_type": "code",
   "execution_count": null,
   "metadata": {},
   "outputs": [],
   "source": [
    "# Radiciação pode ser feita com potenciação\n",
    "a = 16\n",
    "b = 2\n",
    "res = a **(1/b)\n",
    "print(f\"res({res}) contém a**(1/b) (={a**(1/b)}) para a={a} e b={b}\")"
   ]
  },
  {
   "cell_type": "code",
   "execution_count": null,
   "metadata": {},
   "outputs": [],
   "source": [
    "# Existe funções para potenciação e raiz quadrada no módulo math\n",
    "import math"
   ]
  },
  {
   "cell_type": "code",
   "execution_count": null,
   "metadata": {},
   "outputs": [],
   "source": [
    "# Função para potenciação é pow(base, expoente)\n",
    "res = math.pow(a, b)\n",
    "print(f\"res({res}) contém a**b (={math.pow(a,b)}) para a={a} e b={b}\")"
   ]
  },
  {
   "cell_type": "code",
   "execution_count": null,
   "metadata": {},
   "outputs": [],
   "source": [
    "# Função para raiz quadrada é sqrt(valor)\n",
    "res = math.sqrt(a)\n",
    "print(f\"res({res}) contém raiz quadrada de a (={math.sqrt(a)}) para a={a} e b={b}\")"
   ]
  },
  {
   "cell_type": "markdown",
   "metadata": {},
   "source": [
    "### FIM\n",
    "### <a href=\"http://github.com/pjandl/opy1\">Oficina Python Básico</a>"
   ]
  }
 ],
 "metadata": {
  "kernelspec": {
   "display_name": "Python 3",
   "language": "python",
   "name": "python3"
  },
  "language_info": {
   "codemirror_mode": {
    "name": "ipython",
    "version": 3
   },
   "file_extension": ".py",
   "mimetype": "text/x-python",
   "name": "python",
   "nbconvert_exporter": "python",
   "pygments_lexer": "ipython3",
   "version": "3.8.5"
  }
 },
 "nbformat": 4,
 "nbformat_minor": 4
}
